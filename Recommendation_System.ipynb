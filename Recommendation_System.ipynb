{
  "nbformat": 4,
  "nbformat_minor": 0,
  "metadata": {
    "colab": {
      "name": "Recommendation System",
      "provenance": []
    },
    "kernelspec": {
      "name": "python3",
      "display_name": "Python 3"
    },
    "language_info": {
      "name": "python"
    }
  },
  "cells": [
    {
      "cell_type": "code",
      "metadata": {
        "id": "0NZFg5io9S42"
      },
      "source": [
        "# Import required libraries\n",
        "import numpy as np\n",
        "import pandas as pd\n",
        "import matplotlib.pyplot as plt\n",
        "import seaborn as sns\n",
        "from sklearn.feature_extraction.text import TfidfVectorizer    \n",
        "from nltk.tokenize import RegexpTokenizer\n",
        "import numpy as np\n",
        "from sklearn import preprocessing\n",
        "from scipy.sparse import hstack\n",
        "import pandas_profiling"
      ],
      "execution_count": 1,
      "outputs": []
    },
    {
      "cell_type": "code",
      "metadata": {
        "id": "RkLfuA_L9azn"
      },
      "source": [
        "# Load dataset\n",
        "df = pd.read_csv(\"/content/MoviesOnStreamingPlatforms_updated.csv\")\n",
        "df=df.iloc[:,1:] # removing in unnamed index column"
      ],
      "execution_count": 2,
      "outputs": []
    },
    {
      "cell_type": "code",
      "metadata": {
        "colab": {
          "base_uri": "https://localhost:8080/",
          "height": 304
        },
        "id": "vV9EIxpw9tDO",
        "outputId": "34972d8a-8ee9-43ea-ddfa-c7af92d121da"
      },
      "source": [
        "df.head()"
      ],
      "execution_count": 4,
      "outputs": [
        {
          "output_type": "execute_result",
          "data": {
            "text/html": [
              "<div>\n",
              "<style scoped>\n",
              "    .dataframe tbody tr th:only-of-type {\n",
              "        vertical-align: middle;\n",
              "    }\n",
              "\n",
              "    .dataframe tbody tr th {\n",
              "        vertical-align: top;\n",
              "    }\n",
              "\n",
              "    .dataframe thead th {\n",
              "        text-align: right;\n",
              "    }\n",
              "</style>\n",
              "<table border=\"1\" class=\"dataframe\">\n",
              "  <thead>\n",
              "    <tr style=\"text-align: right;\">\n",
              "      <th></th>\n",
              "      <th>ID</th>\n",
              "      <th>Title</th>\n",
              "      <th>Year</th>\n",
              "      <th>Age</th>\n",
              "      <th>IMDb</th>\n",
              "      <th>Rotten Tomatoes</th>\n",
              "      <th>Netflix</th>\n",
              "      <th>Hulu</th>\n",
              "      <th>Prime Video</th>\n",
              "      <th>Disney+</th>\n",
              "      <th>Type</th>\n",
              "      <th>Directors</th>\n",
              "      <th>Genres</th>\n",
              "      <th>Country</th>\n",
              "      <th>Language</th>\n",
              "      <th>Runtime</th>\n",
              "    </tr>\n",
              "  </thead>\n",
              "  <tbody>\n",
              "    <tr>\n",
              "      <th>0</th>\n",
              "      <td>1</td>\n",
              "      <td>Inception</td>\n",
              "      <td>2010</td>\n",
              "      <td>13+</td>\n",
              "      <td>8.8</td>\n",
              "      <td>87%</td>\n",
              "      <td>1</td>\n",
              "      <td>0</td>\n",
              "      <td>0</td>\n",
              "      <td>0</td>\n",
              "      <td>0</td>\n",
              "      <td>Christopher Nolan</td>\n",
              "      <td>Action,Adventure,Sci-Fi,Thriller</td>\n",
              "      <td>United States,United Kingdom</td>\n",
              "      <td>English,Japanese,French</td>\n",
              "      <td>148.0</td>\n",
              "    </tr>\n",
              "    <tr>\n",
              "      <th>1</th>\n",
              "      <td>2</td>\n",
              "      <td>The Matrix</td>\n",
              "      <td>1999</td>\n",
              "      <td>18+</td>\n",
              "      <td>8.7</td>\n",
              "      <td>87%</td>\n",
              "      <td>1</td>\n",
              "      <td>0</td>\n",
              "      <td>0</td>\n",
              "      <td>0</td>\n",
              "      <td>0</td>\n",
              "      <td>Lana Wachowski,Lilly Wachowski</td>\n",
              "      <td>Action,Sci-Fi</td>\n",
              "      <td>United States</td>\n",
              "      <td>English</td>\n",
              "      <td>136.0</td>\n",
              "    </tr>\n",
              "    <tr>\n",
              "      <th>2</th>\n",
              "      <td>3</td>\n",
              "      <td>Avengers: Infinity War</td>\n",
              "      <td>2018</td>\n",
              "      <td>13+</td>\n",
              "      <td>8.5</td>\n",
              "      <td>84%</td>\n",
              "      <td>1</td>\n",
              "      <td>0</td>\n",
              "      <td>0</td>\n",
              "      <td>0</td>\n",
              "      <td>0</td>\n",
              "      <td>Anthony Russo,Joe Russo</td>\n",
              "      <td>Action,Adventure,Sci-Fi</td>\n",
              "      <td>United States</td>\n",
              "      <td>English</td>\n",
              "      <td>149.0</td>\n",
              "    </tr>\n",
              "    <tr>\n",
              "      <th>3</th>\n",
              "      <td>4</td>\n",
              "      <td>Back to the Future</td>\n",
              "      <td>1985</td>\n",
              "      <td>7+</td>\n",
              "      <td>8.5</td>\n",
              "      <td>96%</td>\n",
              "      <td>1</td>\n",
              "      <td>0</td>\n",
              "      <td>0</td>\n",
              "      <td>0</td>\n",
              "      <td>0</td>\n",
              "      <td>Robert Zemeckis</td>\n",
              "      <td>Adventure,Comedy,Sci-Fi</td>\n",
              "      <td>United States</td>\n",
              "      <td>English</td>\n",
              "      <td>116.0</td>\n",
              "    </tr>\n",
              "    <tr>\n",
              "      <th>4</th>\n",
              "      <td>5</td>\n",
              "      <td>The Good, the Bad and the Ugly</td>\n",
              "      <td>1966</td>\n",
              "      <td>18+</td>\n",
              "      <td>8.8</td>\n",
              "      <td>97%</td>\n",
              "      <td>1</td>\n",
              "      <td>0</td>\n",
              "      <td>1</td>\n",
              "      <td>0</td>\n",
              "      <td>0</td>\n",
              "      <td>Sergio Leone</td>\n",
              "      <td>Western</td>\n",
              "      <td>Italy,Spain,West Germany</td>\n",
              "      <td>Italian</td>\n",
              "      <td>161.0</td>\n",
              "    </tr>\n",
              "  </tbody>\n",
              "</table>\n",
              "</div>"
            ],
            "text/plain": [
              "   ID                           Title  ...                 Language Runtime\n",
              "0   1                       Inception  ...  English,Japanese,French   148.0\n",
              "1   2                      The Matrix  ...                  English   136.0\n",
              "2   3          Avengers: Infinity War  ...                  English   149.0\n",
              "3   4              Back to the Future  ...                  English   116.0\n",
              "4   5  The Good, the Bad and the Ugly  ...                  Italian   161.0\n",
              "\n",
              "[5 rows x 16 columns]"
            ]
          },
          "metadata": {
            "tags": []
          },
          "execution_count": 4
        }
      ]
    },
    {
      "cell_type": "code",
      "metadata": {
        "colab": {
          "base_uri": "https://localhost:8080/"
        },
        "id": "JPBFQap49xDd",
        "outputId": "2250a1b2-a624-4d26-fc7a-ed83f25af2f3"
      },
      "source": [
        "df.info()"
      ],
      "execution_count": 5,
      "outputs": [
        {
          "output_type": "stream",
          "text": [
            "<class 'pandas.core.frame.DataFrame'>\n",
            "RangeIndex: 16744 entries, 0 to 16743\n",
            "Data columns (total 16 columns):\n",
            " #   Column           Non-Null Count  Dtype  \n",
            "---  ------           --------------  -----  \n",
            " 0   ID               16744 non-null  int64  \n",
            " 1   Title            16744 non-null  object \n",
            " 2   Year             16744 non-null  int64  \n",
            " 3   Age              7354 non-null   object \n",
            " 4   IMDb             16173 non-null  float64\n",
            " 5   Rotten Tomatoes  5158 non-null   object \n",
            " 6   Netflix          16744 non-null  int64  \n",
            " 7   Hulu             16744 non-null  int64  \n",
            " 8   Prime Video      16744 non-null  int64  \n",
            " 9   Disney+          16744 non-null  int64  \n",
            " 10  Type             16744 non-null  int64  \n",
            " 11  Directors        16018 non-null  object \n",
            " 12  Genres           16469 non-null  object \n",
            " 13  Country          16309 non-null  object \n",
            " 14  Language         16145 non-null  object \n",
            " 15  Runtime          16152 non-null  float64\n",
            "dtypes: float64(2), int64(7), object(7)\n",
            "memory usage: 2.0+ MB\n"
          ],
          "name": "stdout"
        }
      ]
    },
    {
      "cell_type": "code",
      "metadata": {
        "colab": {
          "base_uri": "https://localhost:8080/"
        },
        "id": "Kj4opSIc9xil",
        "outputId": "98063331-27b0-4ff0-a8d4-d1201362a4cc"
      },
      "source": [
        "df.Type.unique()"
      ],
      "execution_count": 6,
      "outputs": [
        {
          "output_type": "execute_result",
          "data": {
            "text/plain": [
              "array([0])"
            ]
          },
          "metadata": {
            "tags": []
          },
          "execution_count": 6
        }
      ]
    },
    {
      "cell_type": "code",
      "metadata": {
        "colab": {
          "base_uri": "https://localhost:8080/",
          "height": 542
        },
        "id": "gixpo_Z49zbF",
        "outputId": "b973c2cc-d54a-4fb3-f2e3-145c401eb2f7"
      },
      "source": [
        "#Finding Missing values in all columns\n",
        "miss = pd.DataFrame(df.isnull().sum())\n",
        "miss = miss.rename(columns={0:\"miss_count\"})\n",
        "miss[\"miss_%\"] = (miss.miss_count/len(df.ID))*100\n",
        "miss"
      ],
      "execution_count": 7,
      "outputs": [
        {
          "output_type": "execute_result",
          "data": {
            "text/html": [
              "<div>\n",
              "<style scoped>\n",
              "    .dataframe tbody tr th:only-of-type {\n",
              "        vertical-align: middle;\n",
              "    }\n",
              "\n",
              "    .dataframe tbody tr th {\n",
              "        vertical-align: top;\n",
              "    }\n",
              "\n",
              "    .dataframe thead th {\n",
              "        text-align: right;\n",
              "    }\n",
              "</style>\n",
              "<table border=\"1\" class=\"dataframe\">\n",
              "  <thead>\n",
              "    <tr style=\"text-align: right;\">\n",
              "      <th></th>\n",
              "      <th>miss_count</th>\n",
              "      <th>miss_%</th>\n",
              "    </tr>\n",
              "  </thead>\n",
              "  <tbody>\n",
              "    <tr>\n",
              "      <th>ID</th>\n",
              "      <td>0</td>\n",
              "      <td>0.000000</td>\n",
              "    </tr>\n",
              "    <tr>\n",
              "      <th>Title</th>\n",
              "      <td>0</td>\n",
              "      <td>0.000000</td>\n",
              "    </tr>\n",
              "    <tr>\n",
              "      <th>Year</th>\n",
              "      <td>0</td>\n",
              "      <td>0.000000</td>\n",
              "    </tr>\n",
              "    <tr>\n",
              "      <th>Age</th>\n",
              "      <td>9390</td>\n",
              "      <td>56.079790</td>\n",
              "    </tr>\n",
              "    <tr>\n",
              "      <th>IMDb</th>\n",
              "      <td>571</td>\n",
              "      <td>3.410177</td>\n",
              "    </tr>\n",
              "    <tr>\n",
              "      <th>Rotten Tomatoes</th>\n",
              "      <td>11586</td>\n",
              "      <td>69.194935</td>\n",
              "    </tr>\n",
              "    <tr>\n",
              "      <th>Netflix</th>\n",
              "      <td>0</td>\n",
              "      <td>0.000000</td>\n",
              "    </tr>\n",
              "    <tr>\n",
              "      <th>Hulu</th>\n",
              "      <td>0</td>\n",
              "      <td>0.000000</td>\n",
              "    </tr>\n",
              "    <tr>\n",
              "      <th>Prime Video</th>\n",
              "      <td>0</td>\n",
              "      <td>0.000000</td>\n",
              "    </tr>\n",
              "    <tr>\n",
              "      <th>Disney+</th>\n",
              "      <td>0</td>\n",
              "      <td>0.000000</td>\n",
              "    </tr>\n",
              "    <tr>\n",
              "      <th>Type</th>\n",
              "      <td>0</td>\n",
              "      <td>0.000000</td>\n",
              "    </tr>\n",
              "    <tr>\n",
              "      <th>Directors</th>\n",
              "      <td>726</td>\n",
              "      <td>4.335882</td>\n",
              "    </tr>\n",
              "    <tr>\n",
              "      <th>Genres</th>\n",
              "      <td>275</td>\n",
              "      <td>1.642379</td>\n",
              "    </tr>\n",
              "    <tr>\n",
              "      <th>Country</th>\n",
              "      <td>435</td>\n",
              "      <td>2.597946</td>\n",
              "    </tr>\n",
              "    <tr>\n",
              "      <th>Language</th>\n",
              "      <td>599</td>\n",
              "      <td>3.577401</td>\n",
              "    </tr>\n",
              "    <tr>\n",
              "      <th>Runtime</th>\n",
              "      <td>592</td>\n",
              "      <td>3.535595</td>\n",
              "    </tr>\n",
              "  </tbody>\n",
              "</table>\n",
              "</div>"
            ],
            "text/plain": [
              "                 miss_count     miss_%\n",
              "ID                        0   0.000000\n",
              "Title                     0   0.000000\n",
              "Year                      0   0.000000\n",
              "Age                    9390  56.079790\n",
              "IMDb                    571   3.410177\n",
              "Rotten Tomatoes       11586  69.194935\n",
              "Netflix                   0   0.000000\n",
              "Hulu                      0   0.000000\n",
              "Prime Video               0   0.000000\n",
              "Disney+                   0   0.000000\n",
              "Type                      0   0.000000\n",
              "Directors               726   4.335882\n",
              "Genres                  275   1.642379\n",
              "Country                 435   2.597946\n",
              "Language                599   3.577401\n",
              "Runtime                 592   3.535595"
            ]
          },
          "metadata": {
            "tags": []
          },
          "execution_count": 7
        }
      ]
    },
    {
      "cell_type": "code",
      "metadata": {
        "id": "rideL8Ua94gN"
      },
      "source": [
        "# Dropping values with missing % more than 50%\n",
        "df.drop(['Rotten Tomatoes', 'Age'], axis = 1, inplace=True)\n",
        "# Dropping Na's from the following columns\n",
        "df.dropna(subset=['IMDb','Directors', 'Genres', 'Country', 'Language', 'Runtime'],inplace=True)\n",
        "df.reset_index(inplace=True,drop=True)\n",
        "# Converting into object type\n",
        "df.Year = df.Year.astype(\"object\")"
      ],
      "execution_count": 8,
      "outputs": []
    },
    {
      "cell_type": "code",
      "metadata": {
        "colab": {
          "base_uri": "https://localhost:8080/"
        },
        "id": "2y4GQnkb97yO",
        "outputId": "00c1fe4c-8f08-43ed-db7f-8312dff37693"
      },
      "source": [
        "df.info()"
      ],
      "execution_count": 10,
      "outputs": [
        {
          "output_type": "stream",
          "text": [
            "<class 'pandas.core.frame.DataFrame'>\n",
            "RangeIndex: 15233 entries, 0 to 15232\n",
            "Data columns (total 14 columns):\n",
            " #   Column       Non-Null Count  Dtype  \n",
            "---  ------       --------------  -----  \n",
            " 0   ID           15233 non-null  int64  \n",
            " 1   Title        15233 non-null  object \n",
            " 2   Year         15233 non-null  object \n",
            " 3   IMDb         15233 non-null  float64\n",
            " 4   Netflix      15233 non-null  int64  \n",
            " 5   Hulu         15233 non-null  int64  \n",
            " 6   Prime Video  15233 non-null  int64  \n",
            " 7   Disney+      15233 non-null  int64  \n",
            " 8   Type         15233 non-null  int64  \n",
            " 9   Directors    15233 non-null  object \n",
            " 10  Genres       15233 non-null  object \n",
            " 11  Country      15233 non-null  object \n",
            " 12  Language     15233 non-null  object \n",
            " 13  Runtime      15233 non-null  float64\n",
            "dtypes: float64(2), int64(6), object(6)\n",
            "memory usage: 1.6+ MB\n"
          ],
          "name": "stdout"
        }
      ]
    },
    {
      "cell_type": "code",
      "metadata": {
        "colab": {
          "base_uri": "https://localhost:8080/",
          "height": 388
        },
        "id": "HbjW1AGB99DN",
        "outputId": "ddc8ef28-abeb-4835-98ae-e41d102c6a10"
      },
      "source": [
        "#checking Distribution of years\n",
        "plt.figure(figsize=(20,5))\n",
        "sns.distplot(df['Year'])\n",
        "plt.show()"
      ],
      "execution_count": 11,
      "outputs": [
        {
          "output_type": "stream",
          "text": [
            "/usr/local/lib/python3.7/dist-packages/seaborn/distributions.py:2557: FutureWarning: `distplot` is a deprecated function and will be removed in a future version. Please adapt your code to use either `displot` (a figure-level function with similar flexibility) or `histplot` (an axes-level function for histograms).\n",
            "  warnings.warn(msg, FutureWarning)\n"
          ],
          "name": "stderr"
        },
        {
          "output_type": "display_data",
          "data": {
            "image/png": "[encoded data removed]",
            "text/plain": [
              "<Figure size 1440x360 with 1 Axes>"
            ]
          },
          "metadata": {
            "tags": [],
            "needs_background": "light"
          }
        }
      ]
    },
    {
      "cell_type": "code",
      "metadata": {
        "colab": {
          "base_uri": "https://localhost:8080/",
          "height": 388
        },
        "id": "fB3ehJA89_1W",
        "outputId": "b24ab994-a85a-438c-d73e-dfbcad11b75f"
      },
      "source": [
        "# Distribution of IMDb Rating\n",
        "plt.figure(figsize=(20,5))\n",
        "sns.distplot(df['IMDb'])\n",
        "plt.show()"
      ],
      "execution_count": 12,
      "outputs": [
        {
          "output_type": "stream",
          "text": [
            "/usr/local/lib/python3.7/dist-packages/seaborn/distributions.py:2557: FutureWarning: `distplot` is a deprecated function and will be removed in a future version. Please adapt your code to use either `displot` (a figure-level function with similar flexibility) or `histplot` (an axes-level function for histograms).\n",
            "  warnings.warn(msg, FutureWarning)\n"
          ],
          "name": "stderr"
        },
        {
          "output_type": "display_data",
          "data": {
            "image/png": "[encoded data removed]",
            "text/plain": [
              "<Figure size 1440x360 with 1 Axes>"
            ]
          },
          "metadata": {
            "tags": [],
            "needs_background": "light"
          }
        }
      ]
    },
    {
      "cell_type": "code",
      "metadata": {
        "colab": {
          "base_uri": "https://localhost:8080/",
          "height": 333
        },
        "id": "-lp4Yd-y-BoG",
        "outputId": "9c3d06c6-47ff-484b-d9d6-9c890ff775b1"
      },
      "source": [
        "# Distribution of runtime\n",
        "sns.distplot(df['Runtime'])\n",
        "plt.show()"
      ],
      "execution_count": 13,
      "outputs": [
        {
          "output_type": "stream",
          "text": [
            "/usr/local/lib/python3.7/dist-packages/seaborn/distributions.py:2557: FutureWarning: `distplot` is a deprecated function and will be removed in a future version. Please adapt your code to use either `displot` (a figure-level function with similar flexibility) or `histplot` (an axes-level function for histograms).\n",
            "  warnings.warn(msg, FutureWarning)\n"
          ],
          "name": "stderr"
        },
        {
          "output_type": "display_data",
          "data": {
            "image/png": "[encoded data removed]",
            "text/plain": [
              "<Figure size 432x288 with 1 Axes>"
            ]
          },
          "metadata": {
            "tags": [],
            "needs_background": "light"
          }
        }
      ]
    },
    {
      "cell_type": "code",
      "metadata": {
        "id": "ymPlZynl-EAV"
      },
      "source": [
        "# A function to calculate the movies in different Streaming platforms\n",
        "def m_cnt(plat, count=False):\n",
        "    if count==False:\n",
        "        print('Platform {} Count: {}'. format(plat, df[plat].sum()))\n",
        "    else:\n",
        "        return df[plat].sum()"
      ],
      "execution_count": 14,
      "outputs": []
    },
    {
      "cell_type": "code",
      "metadata": {
        "colab": {
          "base_uri": "https://localhost:8080/"
        },
        "id": "62nI9ZAx-IwG",
        "outputId": "1e805483-b913-41b6-def6-f49176ca61bb"
      },
      "source": [
        "# Let's see count of movies/shows of each streaming platform\n",
        "m_cnt('Netflix')\n",
        "m_cnt('Hulu')\n",
        "m_cnt('Prime Video')\n",
        "m_cnt('Disney+')"
      ],
      "execution_count": 15,
      "outputs": [
        {
          "output_type": "stream",
          "text": [
            "Platform Netflix Count: 3152\n",
            "Platform Hulu Count: 848\n",
            "Platform Prime Video Count: 11289\n",
            "Platform Disney+ Count: 542\n"
          ],
          "name": "stdout"
        }
      ]
    },
    {
      "cell_type": "code",
      "metadata": {
        "colab": {
          "base_uri": "https://localhost:8080/",
          "height": 249
        },
        "id": "OuTngSPV-OaX",
        "outputId": "4277a78b-ee33-44a2-e656-aa406d4c1902"
      },
      "source": [
        "# Movies on each platform\n",
        "lab = 'Prime Video','Netflix', 'Hulu', 'Disney'\n",
        "s = [m_cnt('Prime Video', count=True),\n",
        "     m_cnt('Netflix', count=True),\n",
        "     m_cnt('Hulu', count=True),\n",
        "     m_cnt('Disney+', count=True)]\n",
        "\n",
        "explode = (0.1, 0.1, 0.1, 0.1)\n",
        "\n",
        "#plotting\n",
        "fig1, ax1 = plt.subplots()\n",
        "ax1.pie(s,\n",
        "       labels = lab,\n",
        "       autopct = '%1.1f%%',\n",
        "       explode = explode,\n",
        "       shadow = True,\n",
        "       startangle = 100)\n",
        "\n",
        "ax1.axis = ('equal')\n",
        "plt.show()"
      ],
      "execution_count": 16,
      "outputs": [
        {
          "output_type": "display_data",
          "data": {
            "image/png": "[encoded data removed]",
            "text/plain": [
              "<Figure size 432x288 with 1 Axes>"
            ]
          },
          "metadata": {
            "tags": []
          }
        }
      ]
    },
    {
      "cell_type": "code",
      "metadata": {
        "id": "peOgcO5W-QbW"
      },
      "source": [
        "##split the genres by ',' & then stack it one after the other for easy analysis.\n",
        "g = df['Genres'].str.split(',').apply(pd.Series, 1).stack()\n",
        "g.index = g.index.droplevel(-1)\n",
        "# Assign name to column\n",
        "g.name = 'Genres'\n",
        "# delete column\n",
        "del df['Genres']\n",
        "# join new column with the existing dataframe\n",
        "df_genres = df.join(g)"
      ],
      "execution_count": 17,
      "outputs": []
    },
    {
      "cell_type": "code",
      "metadata": {
        "colab": {
          "base_uri": "https://localhost:8080/",
          "height": 391
        },
        "id": "tD7LR1y6-SAu",
        "outputId": "a91baacb-7979-4837-978f-ad4328210ba5"
      },
      "source": [
        "# Count of movies according to genre\n",
        "plt.figure(figsize=(15,5))\n",
        "sns.countplot(x='Genres', data=df_genres)\n",
        "plt.xticks(rotation=90)\n",
        "plt.show()"
      ],
      "execution_count": 18,
      "outputs": [
        {
          "output_type": "display_data",
          "data": {
            "image/png": "[encoded data removed]",
            "text/plain": [
              "<Figure size 1080x360 with 1 Axes>"
            ]
          },
          "metadata": {
            "tags": [],
            "needs_background": "light"
          }
        }
      ]
    },
    {
      "cell_type": "code",
      "metadata": {
        "colab": {
          "base_uri": "https://localhost:8080/",
          "height": 390
        },
        "id": "SFCpuB49-VmW",
        "outputId": "d83c2bac-e2c8-48d9-b3bb-d991d05c4074"
      },
      "source": [
        "# Split the Country by ',' & then stack it one after the other for easy analysis.\n",
        "c = df['Country'].str.split(',').apply(pd.Series, 1).stack()\n",
        "c.index = c.index.droplevel(-1)\n",
        "# Assign name to column\n",
        "c.name = 'Country'\n",
        "# delete column\n",
        "del df['Country']\n",
        "# join new column with the existing dataframe\n",
        "df_country = df.join(c)\n",
        "# plotting top 10 country and movie count\n",
        "df_country['Country'].value_counts()[:10].plot(kind='bar',figsize=(15,5))\n",
        "plt.show()"
      ],
      "execution_count": 19,
      "outputs": [
        {
          "output_type": "display_data",
          "data": {
            "image/png": "[encoded data removed]",
            "text/plain": [
              "<Figure size 1080x360 with 1 Axes>"
            ]
          },
          "metadata": {
            "tags": [],
            "needs_background": "light"
          }
        }
      ]
    },
    {
      "cell_type": "code",
      "metadata": {
        "colab": {
          "base_uri": "https://localhost:8080/",
          "height": 254
        },
        "id": "IHpSVLiM-XSO",
        "outputId": "3a57afc4-5752-4501-8ca1-2ddf90828083"
      },
      "source": [
        "# perform stacking operation on language column\n",
        "l = df['Language'].str.split(',').apply(pd.Series,1).stack()\n",
        "l.index = l.index.droplevel(-1)\n",
        "# Assign name to column\n",
        "l.name = 'Language'\n",
        "# delete column\n",
        "del df['Language']\n",
        "# join new column with the existing dataframe\n",
        "df_language = df.join(l)\n",
        "# plotting top 10 Language and movie count\n",
        "df_language['Language'].value_counts()[:10].plot(kind='bar',figsize=(15,3))\n",
        "plt.show()"
      ],
      "execution_count": 20,
      "outputs": [
        {
          "output_type": "display_data",
          "data": {
            "image/png": "[encoded data removed]",
            "text/plain": [
              "<Figure size 1080x216 with 1 Axes>"
            ]
          },
          "metadata": {
            "tags": [],
            "needs_background": "light"
          }
        }
      ]
    },
    {
      "cell_type": "code",
      "metadata": {
        "colab": {
          "base_uri": "https://localhost:8080/",
          "height": 225
        },
        "id": "uHIBgDPp-aRO",
        "outputId": "c76f3786-765e-4347-a4cd-0402255c2d5e"
      },
      "source": [
        "# melting platform columns to create visualization\n",
        "df2 = pd.melt(df, id_vars=[\"ID\",\"Title\",\"Year\",\"IMDb\",\"Type\",\"Runtime\"], var_name=\"platform\")\n",
        "df2 = df2[df2.value==1]\n",
        "df2.drop(columns=[\"value\"],axis=1,inplace=True)\n",
        "# Distribution of IMDB rating in different platform\n",
        "g = sns.FacetGrid(df2, col = \"platform\")\n",
        "g.map(plt.hist, \"IMDb\")\n",
        "plt.show()"
      ],
      "execution_count": 22,
      "outputs": [
        {
          "output_type": "display_data",
          "data": {
            "image/png": "[encoded data removed]",
            "text/plain": [
              "<Figure size 864x216 with 4 Axes>"
            ]
          },
          "metadata": {
            "tags": [],
            "needs_background": "light"
          }
        }
      ]
    },
    {
      "cell_type": "code",
      "metadata": {
        "colab": {
          "base_uri": "https://localhost:8080/",
          "height": 279
        },
        "id": "cAO_Juyn-fk2",
        "outputId": "f3332a14-5d1e-4eb5-9d1e-7c10a0f318cc"
      },
      "source": [
        "# Load dataset\n",
        "df = pd.read_csv(\"/content/MoviesOnStreamingPlatforms_updated.csv\")\n",
        "df=df.iloc[:,1:]\n",
        "df.ID = df.ID.astype(\"object\")\n",
        "\n",
        "# melting platform columns to create visualization\n",
        "df2 = pd.melt(df, id_vars=[\"ID\",\"Title\",\"Year\",\"Age\",\"IMDb\",\"Rotten Tomatoes\",\"Type\",\"Runtime\"], var_name=\"platform\")\n",
        "df2 = df2[df2.value==1]\n",
        "df2.drop(columns=[\"value\"],axis=1,inplace=True)\n",
        "# Total of runtime in different platform\n",
        "ax = sns.barplot(x=\"platform\", y=\"Runtime\",hue=\"Age\", estimator=sum, data=df2)"
      ],
      "execution_count": 24,
      "outputs": [
        {
          "output_type": "display_data",
          "data": {
            "image/png": "[encoded data removed]",
            "text/plain": [
              "<Figure size 432x288 with 1 Axes>"
            ]
          },
          "metadata": {
            "tags": [],
            "needs_background": "light"
          }
        }
      ]
    },
    {
      "cell_type": "markdown",
      "metadata": {
        "id": "TrYxTABD-n1e"
      },
      "source": [
        "**Building a Recommender System**"
      ]
    },
    {
      "cell_type": "code",
      "metadata": {
        "id": "QJOl1Bqa-p82"
      },
      "source": [
        "df = pd.read_csv(\"/content/MoviesOnStreamingPlatforms_updated.csv\")\n",
        "df=df.iloc[:,1:]\n",
        "#Finding Missing values in all columns\n",
        "miss = pd.DataFrame(df.isnull().sum())\n",
        "miss = miss.rename(columns={0:\"miss_count\"})\n",
        "miss[\"miss_%\"] = (miss.miss_count/len(df.ID))*100\n",
        "miss\n",
        "#Dropping values with missing % more than 50%\n",
        "df.drop(['Rotten Tomatoes', 'Age'], axis = 1, inplace=True)\n",
        "# Dropping Na's from the following columns\n",
        "df.dropna(subset=['IMDb','Directors', 'Genres', 'Country', 'Language', 'Runtime'],inplace=True)\n",
        "df.reset_index(inplace=True,drop=True)\n",
        "# converting into object type\n",
        "df.ID = df.ID.astype(\"object\")\n",
        "df.Year = df.Year.astype(\"object\")"
      ],
      "execution_count": 26,
      "outputs": []
    },
    {
      "cell_type": "markdown",
      "metadata": {
        "id": "rXClj3RG-8Qo"
      },
      "source": [
        "I will build two recommender system based on cosine similarity.\n",
        "\n",
        "1. Using only the numerical variable\n",
        "2. Using both numerical and categorical variable"
      ]
    },
    {
      "cell_type": "markdown",
      "metadata": {
        "id": "fdfMYhuF_ANf"
      },
      "source": [
        "**Part One**"
      ]
    },
    {
      "cell_type": "code",
      "metadata": {
        "colab": {
          "base_uri": "https://localhost:8080/",
          "height": 203
        },
        "id": "nFrLc0BZ_DQG",
        "outputId": "eacda736-3cb8-49e5-c988-0562e2cec053"
      },
      "source": [
        "ndf = df.select_dtypes(include=['float64',\"int64\"])\n",
        "\n",
        "# Scaling the numerical variable using a min-max scaler to reduce model complexity and training time.\n",
        "#importing minmax scaler\n",
        "from sklearn import preprocessing\n",
        "\n",
        "# Create MinMaxScaler Object\n",
        "scaler = preprocessing.MinMaxScaler(feature_range=(0, 1))\n",
        "\n",
        "# Create dataframe after transformation\n",
        "ndfmx = pd.DataFrame((scaler.fit_transform(ndf)))\n",
        "\n",
        "# assign column names\n",
        "ndfmx.columns=ndf.columns\n",
        "\n",
        "# Show initial 5 records\n",
        "ndfmx.head()"
      ],
      "execution_count": 28,
      "outputs": [
        {
          "output_type": "execute_result",
          "data": {
            "text/html": [
              "<div>\n",
              "<style scoped>\n",
              "    .dataframe tbody tr th:only-of-type {\n",
              "        vertical-align: middle;\n",
              "    }\n",
              "\n",
              "    .dataframe tbody tr th {\n",
              "        vertical-align: top;\n",
              "    }\n",
              "\n",
              "    .dataframe thead th {\n",
              "        text-align: right;\n",
              "    }\n",
              "</style>\n",
              "<table border=\"1\" class=\"dataframe\">\n",
              "  <thead>\n",
              "    <tr style=\"text-align: right;\">\n",
              "      <th></th>\n",
              "      <th>IMDb</th>\n",
              "      <th>Netflix</th>\n",
              "      <th>Hulu</th>\n",
              "      <th>Prime Video</th>\n",
              "      <th>Disney+</th>\n",
              "      <th>Type</th>\n",
              "      <th>Runtime</th>\n",
              "    </tr>\n",
              "  </thead>\n",
              "  <tbody>\n",
              "    <tr>\n",
              "      <th>0</th>\n",
              "      <td>0.946237</td>\n",
              "      <td>1.0</td>\n",
              "      <td>0.0</td>\n",
              "      <td>0.0</td>\n",
              "      <td>0.0</td>\n",
              "      <td>0.0</td>\n",
              "      <td>0.449541</td>\n",
              "    </tr>\n",
              "    <tr>\n",
              "      <th>1</th>\n",
              "      <td>0.935484</td>\n",
              "      <td>1.0</td>\n",
              "      <td>0.0</td>\n",
              "      <td>0.0</td>\n",
              "      <td>0.0</td>\n",
              "      <td>0.0</td>\n",
              "      <td>0.412844</td>\n",
              "    </tr>\n",
              "    <tr>\n",
              "      <th>2</th>\n",
              "      <td>0.913978</td>\n",
              "      <td>1.0</td>\n",
              "      <td>0.0</td>\n",
              "      <td>0.0</td>\n",
              "      <td>0.0</td>\n",
              "      <td>0.0</td>\n",
              "      <td>0.452599</td>\n",
              "    </tr>\n",
              "    <tr>\n",
              "      <th>3</th>\n",
              "      <td>0.913978</td>\n",
              "      <td>1.0</td>\n",
              "      <td>0.0</td>\n",
              "      <td>0.0</td>\n",
              "      <td>0.0</td>\n",
              "      <td>0.0</td>\n",
              "      <td>0.351682</td>\n",
              "    </tr>\n",
              "    <tr>\n",
              "      <th>4</th>\n",
              "      <td>0.946237</td>\n",
              "      <td>1.0</td>\n",
              "      <td>0.0</td>\n",
              "      <td>1.0</td>\n",
              "      <td>0.0</td>\n",
              "      <td>0.0</td>\n",
              "      <td>0.489297</td>\n",
              "    </tr>\n",
              "  </tbody>\n",
              "</table>\n",
              "</div>"
            ],
            "text/plain": [
              "       IMDb  Netflix  Hulu  Prime Video  Disney+  Type   Runtime\n",
              "0  0.946237      1.0   0.0          0.0      0.0   0.0  0.449541\n",
              "1  0.935484      1.0   0.0          0.0      0.0   0.0  0.412844\n",
              "2  0.913978      1.0   0.0          0.0      0.0   0.0  0.452599\n",
              "3  0.913978      1.0   0.0          0.0      0.0   0.0  0.351682\n",
              "4  0.946237      1.0   0.0          1.0      0.0   0.0  0.489297"
            ]
          },
          "metadata": {
            "tags": []
          },
          "execution_count": 28
        }
      ]
    },
    {
      "cell_type": "code",
      "metadata": {
        "colab": {
          "base_uri": "https://localhost:8080/"
        },
        "id": "FnBj7dM0_G3f",
        "outputId": "91df951b-8c0c-4307-b68f-22c7073dc806"
      },
      "source": [
        "# Import cosine similarity\n",
        "from sklearn.metrics.pairwise import cosine_similarity\n",
        "\n",
        "# Compute the cosine similarity\n",
        "sig = cosine_similarity(ndfmx, ndfmx)\n",
        "\n",
        "# Reverse mapping of indices and movie titles\n",
        "indices = pd.Series(df.index, index=df['Title']).drop_duplicates()\n",
        "indices.head()\n"
      ],
      "execution_count": 30,
      "outputs": [
        {
          "output_type": "execute_result",
          "data": {
            "text/plain": [
              "Title\n",
              "Inception                         0\n",
              "The Matrix                        1\n",
              "Avengers: Infinity War            2\n",
              "Back to the Future                3\n",
              "The Good, the Bad and the Ugly    4\n",
              "dtype: int64"
            ]
          },
          "metadata": {
            "tags": []
          },
          "execution_count": 30
        }
      ]
    },
    {
      "cell_type": "code",
      "metadata": {
        "colab": {
          "base_uri": "https://localhost:8080/"
        },
        "id": "AHWfOtch_ZHV",
        "outputId": "12c416c5-423c-4121-a870-ef8496a1d376"
      },
      "source": [
        "# Writing a function to get recommendations based on the similarity score\n",
        "def give_rec(title, sig=sig):\n",
        "\n",
        "    # Get the index corresponding to original_title\n",
        "    idx = indices[title]\n",
        "\n",
        "    # Get the pairwise similarity scores\n",
        "    sig_scores = list(enumerate(sig[idx]))\n",
        "\n",
        "    # Sort the movies\n",
        "    sig_scores = sorted(sig_scores, key=lambda x: x[1], reverse=True)\n",
        "\n",
        "    # Scores of the 10 most similar movies\n",
        "    sig_scores = sig_scores[1:11]\n",
        "\n",
        "    # Movie indices\n",
        "    movie_indices = [i[0] for i in sig_scores]\n",
        "\n",
        "    # Top 10 most similar movies\n",
        "    return df['Title'].iloc[movie_indices]\n",
        "\n",
        "# Execute get_rec() function for getting recommendation\n",
        "give_rec(\"The Matrix\",sig = sig)"
      ],
      "execution_count": 31,
      "outputs": [
        {
          "output_type": "execute_result",
          "data": {
            "text/plain": [
              "1269    Eh Janam Tumhare Lekhe\n",
              "747          Khosla Ka Ghosla!\n",
              "167                 Article 15\n",
              "0                    Inception\n",
              "2388                    Kaakan\n",
              "1312     Merku Thodarchi Malai\n",
              "742                      Udaan\n",
              "57              A Silent Voice\n",
              "606           Paan Singh Tomar\n",
              "1528            Love Ni Bhavai\n",
              "Name: Title, dtype: object"
            ]
          },
          "metadata": {
            "tags": []
          },
          "execution_count": 31
        }
      ]
    },
    {
      "cell_type": "markdown",
      "metadata": {
        "id": "8wkcWWGf_j-x"
      },
      "source": [
        "**Part Two**"
      ]
    },
    {
      "cell_type": "code",
      "metadata": {
        "colab": {
          "base_uri": "https://localhost:8080/",
          "height": 270
        },
        "id": "FDCIc-P1_nDX",
        "outputId": "4531b51b-0121-4e43-85dd-26408b6b996d"
      },
      "source": [
        "# Using Numerical and Textual columns\n",
        "df.head()"
      ],
      "execution_count": 32,
      "outputs": [
        {
          "output_type": "execute_result",
          "data": {
            "text/html": [
              "<div>\n",
              "<style scoped>\n",
              "    .dataframe tbody tr th:only-of-type {\n",
              "        vertical-align: middle;\n",
              "    }\n",
              "\n",
              "    .dataframe tbody tr th {\n",
              "        vertical-align: top;\n",
              "    }\n",
              "\n",
              "    .dataframe thead th {\n",
              "        text-align: right;\n",
              "    }\n",
              "</style>\n",
              "<table border=\"1\" class=\"dataframe\">\n",
              "  <thead>\n",
              "    <tr style=\"text-align: right;\">\n",
              "      <th></th>\n",
              "      <th>ID</th>\n",
              "      <th>Title</th>\n",
              "      <th>Year</th>\n",
              "      <th>IMDb</th>\n",
              "      <th>Netflix</th>\n",
              "      <th>Hulu</th>\n",
              "      <th>Prime Video</th>\n",
              "      <th>Disney+</th>\n",
              "      <th>Type</th>\n",
              "      <th>Directors</th>\n",
              "      <th>Genres</th>\n",
              "      <th>Country</th>\n",
              "      <th>Language</th>\n",
              "      <th>Runtime</th>\n",
              "    </tr>\n",
              "  </thead>\n",
              "  <tbody>\n",
              "    <tr>\n",
              "      <th>0</th>\n",
              "      <td>1</td>\n",
              "      <td>Inception</td>\n",
              "      <td>2010</td>\n",
              "      <td>8.8</td>\n",
              "      <td>1</td>\n",
              "      <td>0</td>\n",
              "      <td>0</td>\n",
              "      <td>0</td>\n",
              "      <td>0</td>\n",
              "      <td>Christopher Nolan</td>\n",
              "      <td>Action,Adventure,Sci-Fi,Thriller</td>\n",
              "      <td>United States,United Kingdom</td>\n",
              "      <td>English,Japanese,French</td>\n",
              "      <td>148.0</td>\n",
              "    </tr>\n",
              "    <tr>\n",
              "      <th>1</th>\n",
              "      <td>2</td>\n",
              "      <td>The Matrix</td>\n",
              "      <td>1999</td>\n",
              "      <td>8.7</td>\n",
              "      <td>1</td>\n",
              "      <td>0</td>\n",
              "      <td>0</td>\n",
              "      <td>0</td>\n",
              "      <td>0</td>\n",
              "      <td>Lana Wachowski,Lilly Wachowski</td>\n",
              "      <td>Action,Sci-Fi</td>\n",
              "      <td>United States</td>\n",
              "      <td>English</td>\n",
              "      <td>136.0</td>\n",
              "    </tr>\n",
              "    <tr>\n",
              "      <th>2</th>\n",
              "      <td>3</td>\n",
              "      <td>Avengers: Infinity War</td>\n",
              "      <td>2018</td>\n",
              "      <td>8.5</td>\n",
              "      <td>1</td>\n",
              "      <td>0</td>\n",
              "      <td>0</td>\n",
              "      <td>0</td>\n",
              "      <td>0</td>\n",
              "      <td>Anthony Russo,Joe Russo</td>\n",
              "      <td>Action,Adventure,Sci-Fi</td>\n",
              "      <td>United States</td>\n",
              "      <td>English</td>\n",
              "      <td>149.0</td>\n",
              "    </tr>\n",
              "    <tr>\n",
              "      <th>3</th>\n",
              "      <td>4</td>\n",
              "      <td>Back to the Future</td>\n",
              "      <td>1985</td>\n",
              "      <td>8.5</td>\n",
              "      <td>1</td>\n",
              "      <td>0</td>\n",
              "      <td>0</td>\n",
              "      <td>0</td>\n",
              "      <td>0</td>\n",
              "      <td>Robert Zemeckis</td>\n",
              "      <td>Adventure,Comedy,Sci-Fi</td>\n",
              "      <td>United States</td>\n",
              "      <td>English</td>\n",
              "      <td>116.0</td>\n",
              "    </tr>\n",
              "    <tr>\n",
              "      <th>4</th>\n",
              "      <td>5</td>\n",
              "      <td>The Good, the Bad and the Ugly</td>\n",
              "      <td>1966</td>\n",
              "      <td>8.8</td>\n",
              "      <td>1</td>\n",
              "      <td>0</td>\n",
              "      <td>1</td>\n",
              "      <td>0</td>\n",
              "      <td>0</td>\n",
              "      <td>Sergio Leone</td>\n",
              "      <td>Western</td>\n",
              "      <td>Italy,Spain,West Germany</td>\n",
              "      <td>Italian</td>\n",
              "      <td>161.0</td>\n",
              "    </tr>\n",
              "  </tbody>\n",
              "</table>\n",
              "</div>"
            ],
            "text/plain": [
              "  ID                           Title  ...                 Language  Runtime\n",
              "0  1                       Inception  ...  English,Japanese,French    148.0\n",
              "1  2                      The Matrix  ...                  English    136.0\n",
              "2  3          Avengers: Infinity War  ...                  English    149.0\n",
              "3  4              Back to the Future  ...                  English    116.0\n",
              "4  5  The Good, the Bad and the Ugly  ...                  Italian    161.0\n",
              "\n",
              "[5 rows x 14 columns]"
            ]
          },
          "metadata": {
            "tags": []
          },
          "execution_count": 32
        }
      ]
    },
    {
      "cell_type": "code",
      "metadata": {
        "id": "uWRuowLf_0g4"
      },
      "source": [
        "#the function performs all the important preprocessing steps\n",
        "def preprocess(df):\n",
        "    #combining all text columns\n",
        "    # Selecting all object data type and storing them in list\n",
        "    s = list(df.select_dtypes(include=['object']).columns)\n",
        "    # Removing ID and Title column\n",
        "    s.remove(\"Title\")\n",
        "    s.remove(\"ID\")\n",
        "    # Joining all text/object columns using commas into a single column\n",
        "    df['all_text']= df[s].apply(lambda x: ','.join(x.dropna().astype(str)),axis=1)\n",
        "\n",
        "    # Creating a tokenizer to remove unwanted elements from our data like symbols and numbers\n",
        "    token = RegexpTokenizer(r'[a-zA-Z]+')\n",
        "\n",
        "    # Converting TfidfVector from the text\n",
        "    cv = TfidfVectorizer(lowercase=True,stop_words='english',ngram_range = (1,1),tokenizer = token.tokenize)\n",
        "    text_counts= cv.fit_transform(df['all_text'])\n",
        "\n",
        "    # Aelecting numerical variables\n",
        "    ndf = df.select_dtypes(include=['float64',\"int64\"])\n",
        "\n",
        "    # Scaling Numerical variables\n",
        "    scaler = preprocessing.MinMaxScaler(feature_range=(0, 1))\n",
        "\n",
        "    # Applying scaler on our data and converting i into a data frame\n",
        "    ndfmx = pd.DataFrame((scaler.fit_transform(ndf)))\n",
        "    ndfmx.columns=ndf.columns    \n",
        "\n",
        "    # Adding our adding numerical variables in the TF-IDF vector\n",
        "    IMDb = ndfmx.IMDb.values[:, None]\n",
        "    X_train_dtm = hstack((text_counts, IMDb))\n",
        "    Netflix = ndfmx.Netflix.values[:, None]\n",
        "    X_train_dtm = hstack((X_train_dtm, Netflix))\n",
        "    Hulu = ndfmx.Hulu.values[:, None]\n",
        "    X_train_dtm = hstack((X_train_dtm, Hulu))\n",
        "    Prime = ndfmx[\"Prime Video\"].values[:, None]\n",
        "    X_train_dtm = hstack((X_train_dtm, Prime))\n",
        "    Disney = ndfmx[\"Disney+\"].values[:, None]\n",
        "    X_train_dtm = hstack((X_train_dtm, Disney))\n",
        "    Runtime = ndfmx.Runtime.values[:, None]\n",
        "    X_train_dtm = hstack((X_train_dtm, Runtime))\n",
        "    return X_train_dtm"
      ],
      "execution_count": 33,
      "outputs": []
    },
    {
      "cell_type": "code",
      "metadata": {
        "colab": {
          "base_uri": "https://localhost:8080/"
        },
        "id": "FTH_xS4C_6KW",
        "outputId": "645d7bfd-78a1-4199-fdf3-236d13bd63c5"
      },
      "source": [
        "# Preprocessing data\n",
        "mat =preprocess(df)\n",
        "mat.shape"
      ],
      "execution_count": 34,
      "outputs": [
        {
          "output_type": "execute_result",
          "data": {
            "text/plain": [
              "(15233, 11997)"
            ]
          },
          "metadata": {
            "tags": []
          },
          "execution_count": 34
        }
      ]
    },
    {
      "cell_type": "code",
      "metadata": {
        "id": "xcOMrPOLABT2"
      },
      "source": [
        "# using cosine similarity\n",
        "from sklearn.metrics.pairwise import cosine_similarity\n",
        "\n",
        "# Compute the sigmoid kernel\n",
        "sig2 = cosine_similarity(mat, mat)\n",
        "\n",
        "# Reverse mapping of indices and movie titles\n",
        "indices = pd.Series(df.index, index=df['Title']).drop_duplicates()"
      ],
      "execution_count": 35,
      "outputs": []
    },
    {
      "cell_type": "code",
      "metadata": {
        "colab": {
          "base_uri": "https://localhost:8080/"
        },
        "id": "ULzlA0B0AFXe",
        "outputId": "d49a18cf-43d0-43b3-e646-f6f9e2b6aa1b"
      },
      "source": [
        "give_rec(\"The Matrix\",sig=sig2)"
      ],
      "execution_count": 36,
      "outputs": [
        {
          "output_type": "execute_result",
          "data": {
            "text/plain": [
              "81             The Matrix Reloaded\n",
              "245         The Matrix Revolutions\n",
              "755              Jupiter Ascending\n",
              "154                 Miss Americana\n",
              "0                        Inception\n",
              "3               Back to the Future\n",
              "1971    The Girl Allergic to Wi-Fi\n",
              "36                 Minority Report\n",
              "2           Avengers: Infinity War\n",
              "132        Solo: A Star Wars Story\n",
              "Name: Title, dtype: object"
            ]
          },
          "metadata": {
            "tags": []
          },
          "execution_count": 36
        }
      ]
    }
  ]
}